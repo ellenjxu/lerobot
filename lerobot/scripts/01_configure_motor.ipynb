{
 "cells": [
  {
   "cell_type": "code",
   "execution_count": 1,
   "metadata": {},
   "outputs": [],
   "source": [
    "import os\n",
    "import sys\n",
    "parent_of_parent = os.path.dirname(os.path.dirname(os.getcwd()))\n",
    "sys.path.append(parent_of_parent)"
   ]
  },
  {
   "cell_type": "code",
   "execution_count": 2,
   "metadata": {},
   "outputs": [],
   "source": [
    "from lerobot.common.robot_devices.motors.configs import DynamixelMotorsBusConfig\n",
    "from lerobot.common.robot_devices.motors.dynamixel import DynamixelMotorsBus\n",
    "\n",
    "follower_port = \"/dev/ttyACM3\"\n",
    "leader_port = \"/dev/ttyACM4\"\n",
    "\n",
    "leader_config = DynamixelMotorsBusConfig(\n",
    "    port=leader_port,\n",
    "    motors={\n",
    "        # name: (index, model)\n",
    "        \"shoulder_pan\": (1, \"xl330-m077\"),\n",
    "        \"shoulder_lift\": (2, \"xl330-m077\"),\n",
    "        \"elbow_flex\": (3, \"xl330-m077\"),\n",
    "        \"wrist_flex\": (4, \"xl330-m077\"),\n",
    "        \"wrist_roll\": (5, \"xl330-m077\"),\n",
    "        \"gripper\": (6, \"xl330-m077\"),\n",
    "    },\n",
    ")\n",
    "\n",
    "follower_config = DynamixelMotorsBusConfig(\n",
    "    port=follower_port,\n",
    "    motors={\n",
    "        # name: (index, model)\n",
    "        \"shoulder_pan\": (1, \"xl430-w250\"),\n",
    "        \"shoulder_lift\": (2, \"xl430-w250\"),\n",
    "        \"elbow_flex\": (3, \"xl330-m288\"),\n",
    "        \"wrist_flex\": (4, \"xl330-m288\"),\n",
    "        \"wrist_roll\": (5, \"xl330-m288\"),\n",
    "        \"gripper\": (6, \"xl330-m288\"),\n",
    "    },\n",
    ")\n",
    "\n",
    "leader_arm = DynamixelMotorsBus(leader_config)\n",
    "follower_arm = DynamixelMotorsBus(follower_config)"
   ]
  },
  {
   "cell_type": "code",
   "execution_count": 3,
   "metadata": {},
   "outputs": [],
   "source": [
    "# configure leader and follower arm\n",
    "leader_arm.connect()\n",
    "follower_arm.connect()"
   ]
  },
  {
   "cell_type": "code",
   "execution_count": 4,
   "metadata": {},
   "outputs": [
    {
     "ename": "ConnectionError",
     "evalue": "Read failed due to communication error on port /dev/ttyACM4 for group_key Present_Position_shoulder_pan_shoulder_lift_elbow_flex_wrist_flex_wrist_roll_gripper: [TxRxResult] There is no status packet!",
     "output_type": "error",
     "traceback": [
      "\u001b[0;31m---------------------------------------------------------------------------\u001b[0m",
      "\u001b[0;31mConnectionError\u001b[0m                           Traceback (most recent call last)",
      "Cell \u001b[0;32mIn[4], line 2\u001b[0m\n\u001b[1;32m      1\u001b[0m \u001b[38;5;66;03m# now we are done configuring! test read/write\u001b[39;00m\n\u001b[0;32m----> 2\u001b[0m leader_pos \u001b[38;5;241m=\u001b[39m \u001b[43mleader_arm\u001b[49m\u001b[38;5;241;43m.\u001b[39;49m\u001b[43mread\u001b[49m\u001b[43m(\u001b[49m\u001b[38;5;124;43m\"\u001b[39;49m\u001b[38;5;124;43mPresent_Position\u001b[39;49m\u001b[38;5;124;43m\"\u001b[39;49m\u001b[43m)\u001b[49m\n\u001b[1;32m      3\u001b[0m \u001b[38;5;28mprint\u001b[39m(leader_pos)\n",
      "File \u001b[0;32m~/code/*/lerobot/lerobot/common/robot_devices/motors/dynamixel.py:715\u001b[0m, in \u001b[0;36mDynamixelMotorsBus.read\u001b[0;34m(self, data_name, motor_names)\u001b[0m\n\u001b[1;32m    712\u001b[0m         \u001b[38;5;28;01mbreak\u001b[39;00m\n\u001b[1;32m    714\u001b[0m \u001b[38;5;28;01mif\u001b[39;00m comm \u001b[38;5;241m!=\u001b[39m dxl\u001b[38;5;241m.\u001b[39mCOMM_SUCCESS:\n\u001b[0;32m--> 715\u001b[0m     \u001b[38;5;28;01mraise\u001b[39;00m \u001b[38;5;167;01mConnectionError\u001b[39;00m(\n\u001b[1;32m    716\u001b[0m         \u001b[38;5;124mf\u001b[39m\u001b[38;5;124m\"\u001b[39m\u001b[38;5;124mRead failed due to communication error on port \u001b[39m\u001b[38;5;132;01m{\u001b[39;00m\u001b[38;5;28mself\u001b[39m\u001b[38;5;241m.\u001b[39mport\u001b[38;5;132;01m}\u001b[39;00m\u001b[38;5;124m for group_key \u001b[39m\u001b[38;5;132;01m{\u001b[39;00mgroup_key\u001b[38;5;132;01m}\u001b[39;00m\u001b[38;5;124m: \u001b[39m\u001b[38;5;124m\"\u001b[39m\n\u001b[1;32m    717\u001b[0m         \u001b[38;5;124mf\u001b[39m\u001b[38;5;124m\"\u001b[39m\u001b[38;5;132;01m{\u001b[39;00m\u001b[38;5;28mself\u001b[39m\u001b[38;5;241m.\u001b[39mpacket_handler\u001b[38;5;241m.\u001b[39mgetTxRxResult(comm)\u001b[38;5;132;01m}\u001b[39;00m\u001b[38;5;124m\"\u001b[39m\n\u001b[1;32m    718\u001b[0m     )\n\u001b[1;32m    720\u001b[0m values \u001b[38;5;241m=\u001b[39m []\n\u001b[1;32m    721\u001b[0m \u001b[38;5;28;01mfor\u001b[39;00m idx \u001b[38;5;129;01min\u001b[39;00m motor_ids:\n",
      "\u001b[0;31mConnectionError\u001b[0m: Read failed due to communication error on port /dev/ttyACM4 for group_key Present_Position_shoulder_pan_shoulder_lift_elbow_flex_wrist_flex_wrist_roll_gripper: [TxRxResult] There is no status packet!"
     ]
    }
   ],
   "source": [
    "# now we are done configuring! test read/write\n",
    "leader_pos = leader_arm.read(\"Present_Position\")\n",
    "print(leader_pos)"
   ]
  },
  {
   "cell_type": "code",
   "execution_count": 5,
   "metadata": {},
   "outputs": [
    {
     "name": "stdout",
     "output_type": "stream",
     "text": [
      "[2219 1428 1849 2319 2098 2596]\n"
     ]
    }
   ],
   "source": [
    "follower_pos = follower_arm.read(\"Present_Position\")\n",
    "print(follower_pos)\n"
   ]
  },
  {
   "cell_type": "markdown",
   "metadata": {},
   "source": [
    "control the follower arm"
   ]
  },
  {
   "cell_type": "code",
   "execution_count": 9,
   "metadata": {},
   "outputs": [],
   "source": [
    "from lerobot.common.robot_devices.motors.dynamixel import TorqueMode\n",
    "\n",
    "# DO NOT ATTEMPT TO MANUALLY MOVE ARM WHILE TORQUE IS ENABLED\n",
    "follower_arm.write(\"Torque_Enable\", TorqueMode.ENABLED.value)"
   ]
  },
  {
   "cell_type": "code",
   "execution_count": 10,
   "metadata": {},
   "outputs": [],
   "source": [
    "# Get the current position\n",
    "position = follower_arm.read(\"Present_Position\")\n",
    "\n",
    "# Update first motor (shoulder_pan) position by +10 steps\n",
    "position[0] += 10\n",
    "follower_arm.write(\"Goal_Position\", position)\n",
    "\n",
    "# Update all motors position by -30 steps\n",
    "position -= 30\n",
    "follower_arm.write(\"Goal_Position\", position)\n"
   ]
  },
  {
   "cell_type": "code",
   "execution_count": 11,
   "metadata": {},
   "outputs": [],
   "source": [
    "# Update gripper by +30 steps. You can see it opening wider!\n",
    "position[-1] += 30\n",
    "follower_arm.write(\"Goal_Position\", position[-1], \"gripper\")"
   ]
  },
  {
   "cell_type": "code",
   "execution_count": 12,
   "metadata": {},
   "outputs": [],
   "source": [
    "# disable torque\n",
    "follower_arm.write(\"Torque_Enable\", TorqueMode.DISABLED.value)"
   ]
  },
  {
   "cell_type": "code",
   "execution_count": 6,
   "metadata": {},
   "outputs": [],
   "source": [
    "leader_arm.disconnect()\n",
    "follower_arm.disconnect()"
   ]
  },
  {
   "cell_type": "code",
   "execution_count": null,
   "metadata": {},
   "outputs": [],
   "source": []
  }
 ],
 "metadata": {
  "kernelspec": {
   "display_name": "lerobot",
   "language": "python",
   "name": "python3"
  },
  "language_info": {
   "codemirror_mode": {
    "name": "ipython",
    "version": 3
   },
   "file_extension": ".py",
   "mimetype": "text/x-python",
   "name": "python",
   "nbconvert_exporter": "python",
   "pygments_lexer": "ipython3",
   "version": "3.11.9"
  }
 },
 "nbformat": 4,
 "nbformat_minor": 2
}
