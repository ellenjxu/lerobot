{
 "cells": [
  {
   "cell_type": "code",
   "execution_count": 1,
   "metadata": {},
   "outputs": [],
   "source": [
    "from lerobot.common.robot_devices.motors.dynamixel import DynamixelMotorsBus\n",
    "\n",
    "leader_port = \"/dev/ttyACM1\"\n",
    "follower_port = \"/dev/ttyACM0\"\n",
    "\n",
    "leader_arm = DynamixelMotorsBus(\n",
    "    port=leader_port,\n",
    "    motors={\n",
    "        # name: (index, model)\n",
    "        \"shoulder_pan\": (1, \"xl330-m077\"),\n",
    "        \"shoulder_lift\": (2, \"xl330-m077\"),\n",
    "        \"elbow_flex\": (3, \"xl330-m077\"),\n",
    "        \"wrist_flex\": (4, \"xl330-m077\"),\n",
    "        \"wrist_roll\": (5, \"xl330-m077\"),\n",
    "        \"gripper\": (6, \"xl330-m077\"),\n",
    "    },\n",
    ")\n",
    "\n",
    "follower_arm = DynamixelMotorsBus(\n",
    "    port=follower_port,\n",
    "    motors={\n",
    "        # name: (index, model)\n",
    "        \"shoulder_pan\": (1, \"xl430-w250\"),\n",
    "        \"shoulder_lift\": (2, \"xl430-w250\"),\n",
    "        \"elbow_flex\": (3, \"xl330-m288\"),\n",
    "        \"wrist_flex\": (4, \"xl330-m288\"),\n",
    "        \"wrist_roll\": (5, \"xl330-m288\"),\n",
    "        \"gripper\": (6, \"xl330-m288\"),\n",
    "    },\n",
    ")"
   ]
  },
  {
   "cell_type": "code",
   "execution_count": null,
   "metadata": {},
   "outputs": [],
   "source": []
  }
 ],
 "metadata": {
  "kernelspec": {
   "display_name": "lerobot",
   "language": "python",
   "name": "python3"
  },
  "language_info": {
   "codemirror_mode": {
    "name": "ipython",
    "version": 3
   },
   "file_extension": ".py",
   "mimetype": "text/x-python",
   "name": "python",
   "nbconvert_exporter": "python",
   "pygments_lexer": "ipython3",
   "version": "3.11.9"
  }
 },
 "nbformat": 4,
 "nbformat_minor": 2
}
