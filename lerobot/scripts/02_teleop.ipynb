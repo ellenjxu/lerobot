{
 "cells": [
  {
   "cell_type": "code",
   "execution_count": 1,
   "metadata": {},
   "outputs": [],
   "source": [
    "# https://github.com/huggingface/lerobot/blob/main/examples/7_get_started_with_real_robot.md"
   ]
  },
  {
   "cell_type": "code",
   "execution_count": 1,
   "metadata": {},
   "outputs": [],
   "source": [
    "import os\n",
    "import sys\n",
    "parent_of_parent = os.path.dirname(os.path.dirname(os.getcwd()))\n",
    "sys.path.append(parent_of_parent)"
   ]
  },
  {
   "cell_type": "code",
   "execution_count": 2,
   "metadata": {},
   "outputs": [],
   "source": [
    "from lerobot.common.robot_devices.motors.configs import DynamixelMotorsBusConfig\n",
    "from lerobot.common.robot_devices.motors.dynamixel import DynamixelMotorsBus\n",
    "\n",
    "leader_port = \"/dev/ttyACM5\"\n",
    "follower_port = \"/dev/ttyACM2\"\n",
    "\n",
    "leader_config = DynamixelMotorsBusConfig(\n",
    "    port=leader_port,\n",
    "    motors={\n",
    "        # name: (index, model)\n",
    "        \"shoulder_pan\": (1, \"xl330-m077\"),\n",
    "        \"shoulder_lift\": (2, \"xl330-m077\"),\n",
    "        \"elbow_flex\": (3, \"xl330-m077\"),\n",
    "        \"wrist_flex\": (4, \"xl330-m077\"),\n",
    "        \"wrist_roll\": (5, \"xl330-m077\"),\n",
    "        \"gripper\": (6, \"xl330-m077\"),\n",
    "    },\n",
    ")\n",
    "\n",
    "follower_config = DynamixelMotorsBusConfig(\n",
    "    port=follower_port,\n",
    "    motors={\n",
    "        # name: (index, model)\n",
    "        \"shoulder_pan\": (1, \"xl430-w250\"),\n",
    "        \"shoulder_lift\": (2, \"xl430-w250\"),\n",
    "        \"elbow_flex\": (3, \"xl330-m288\"),\n",
    "        \"wrist_flex\": (4, \"xl330-m288\"),\n",
    "        \"wrist_roll\": (5, \"xl330-m288\"),\n",
    "        \"gripper\": (6, \"xl330-m288\"),\n",
    "    },\n",
    ")\n",
    "\n",
    "leader_arm = DynamixelMotorsBus(leader_config)\n",
    "follower_arm = DynamixelMotorsBus(follower_config)"
   ]
  },
  {
   "cell_type": "markdown",
   "metadata": {},
   "source": [
    "teleop"
   ]
  },
  {
   "cell_type": "code",
   "execution_count": 3,
   "metadata": {},
   "outputs": [],
   "source": [
    "from lerobot.common.robot_devices.robots.configs import KochRobotConfig\n",
    "from lerobot.common.robot_devices.robots.manipulator import ManipulatorRobot\n",
    "\n",
    "robot_config = KochRobotConfig(\n",
    "    leader_arms={\"main\": leader_config},\n",
    "    follower_arms={\"main\": follower_config},\n",
    "    cameras={},  # We don't use any camera for now\n",
    ")\n",
    "robot = ManipulatorRobot(robot_config)"
   ]
  },
  {
   "cell_type": "code",
   "execution_count": 4,
   "metadata": {},
   "outputs": [
    {
     "name": "stdout",
     "output_type": "stream",
     "text": [
      "Connecting main follower arm.\n",
      "Connecting main leader arm.\n",
      "Activating torque on main follower arm.\n"
     ]
    }
   ],
   "source": [
    "# calibrate robot to make sure leader and follower are in the same position\n",
    "robot.connect()"
   ]
  },
  {
   "cell_type": "code",
   "execution_count": 5,
   "metadata": {},
   "outputs": [
    {
     "name": "stdout",
     "output_type": "stream",
     "text": [
      "[ 14.238281 120.67383  163.38867   39.46289   80.24414   34.716797]\n",
      "[-15.292969 126.47461  161.80664   28.03711   73.916016  34.277344]\n"
     ]
    }
   ],
   "source": [
    "# calibration complete! check if match\n",
    "leader_pos = robot.leader_arms[\"main\"].read(\"Present_Position\")\n",
    "follower_pos = robot.follower_arms[\"main\"].read(\"Present_Position\")\n",
    "\n",
    "print(leader_pos)\n",
    "print(follower_pos)"
   ]
  },
  {
   "cell_type": "markdown",
   "metadata": {},
   "source": [
    "teleop for 30s"
   ]
  },
  {
   "cell_type": "code",
   "execution_count": 11,
   "metadata": {},
   "outputs": [
    {
     "name": "stderr",
     "output_type": "stream",
     "text": [
      "100%|██████████| 6000/6000 [00:29<00:00, 204.21it/s]\n"
     ]
    }
   ],
   "source": [
    "import tqdm\n",
    "seconds = 30\n",
    "frequency = 200 # 200 Hz\n",
    "for _ in tqdm.tqdm(range(seconds*frequency)):\n",
    "    leader_pos = robot.leader_arms[\"main\"].read(\"Present_Position\")\n",
    "    robot.follower_arms[\"main\"].write(\"Goal_Position\", leader_pos)"
   ]
  },
  {
   "cell_type": "code",
   "execution_count": 15,
   "metadata": {},
   "outputs": [
    {
     "name": "stderr",
     "output_type": "stream",
     "text": [
      "100%|██████████| 6000/6000 [00:29<00:00, 202.53it/s]\n"
     ]
    }
   ],
   "source": [
    "# same but simpler code version\n",
    "for _ in tqdm.tqdm(range(seconds*frequency)):\n",
    "    robot.teleop_step()"
   ]
  },
  {
   "cell_type": "code",
   "execution_count": 20,
   "metadata": {},
   "outputs": [
    {
     "name": "stdout",
     "output_type": "stream",
     "text": [
      "[-21.796875 125.771484 167.69531   20.126953  76.02539   34.277344]\n",
      "{'observation.state': tensor([-21.7969, 125.7715, 167.6953,  20.1270,  76.0254,  34.2773])}\n",
      "[-15.1171875 133.50586   162.59766    31.113281   73.47656    34.716797 ]\n",
      "{'action': tensor([-15.1172, 133.5059, 162.5977,  31.1133,  73.4766,  34.7168])}\n"
     ]
    }
   ],
   "source": [
    "leader_pos = robot.leader_arms[\"main\"].read(\"Present_Position\")\n",
    "follower_pos = robot.follower_arms[\"main\"].read(\"Present_Position\")\n",
    "# observation = follower arm original pos, action = leader arm pos\n",
    "observation, action = robot.teleop_step(record_data=True)\n",
    "\n",
    "print(follower_pos)\n",
    "print(observation)\n",
    "print(leader_pos)\n",
    "print(action)"
   ]
  },
  {
   "cell_type": "code",
   "execution_count": 6,
   "metadata": {},
   "outputs": [],
   "source": [
    "robot.disconnect()"
   ]
  },
  {
   "cell_type": "markdown",
   "metadata": {},
   "source": [
    "teleop with camera (03_camera.ipynb)"
   ]
  },
  {
   "cell_type": "code",
   "execution_count": 10,
   "metadata": {},
   "outputs": [
    {
     "name": "stdout",
     "output_type": "stream",
     "text": [
      "(480, 640, 3)\n",
      "uint8\n"
     ]
    }
   ],
   "source": [
    "from lerobot.common.robot_devices.cameras.configs import OpenCVCameraConfig\n",
    "from lerobot.common.robot_devices.cameras.opencv import OpenCVCamera\n",
    "\n",
    "# check camera index corresponding to OBS\n",
    "# python lerobot/common/robot_devices/cameras/opencv.py --images-dir outputs/images_from_opencv_cameras\n",
    "camera_config = OpenCVCameraConfig(camera_index=4)\n",
    "camera = OpenCVCamera(camera_config)\n",
    "camera.connect()\n",
    "color_image = camera.read()\n",
    "\n",
    "print(color_image.shape)\n",
    "print(color_image.dtype)"
   ]
  },
  {
   "cell_type": "code",
   "execution_count": 13,
   "metadata": {},
   "outputs": [
    {
     "ename": "RobotDeviceNotConnectedError",
     "evalue": "OpenCVCamera(4) is not connected. Try running `camera.connect()` first.",
     "output_type": "error",
     "traceback": [
      "\u001b[0;31m---------------------------------------------------------------------------\u001b[0m",
      "\u001b[0;31mRobotDeviceNotConnectedError\u001b[0m              Traceback (most recent call last)",
      "Cell \u001b[0;32mIn[13], line 2\u001b[0m\n\u001b[1;32m      1\u001b[0m \u001b[38;5;66;03m# MAKE SURE TO RUN THIS BEFORE TRYING TO ASSIGN IN CONFIG\u001b[39;00m\n\u001b[0;32m----> 2\u001b[0m \u001b[43mcamera\u001b[49m\u001b[38;5;241;43m.\u001b[39;49m\u001b[43mdisconnect\u001b[49m\u001b[43m(\u001b[49m\u001b[43m)\u001b[49m\n",
      "File \u001b[0;32m~/code/*/lerobot/lerobot/common/robot_devices/cameras/opencv.py:421\u001b[0m, in \u001b[0;36mOpenCVCamera.disconnect\u001b[0;34m(self)\u001b[0m\n\u001b[1;32m    419\u001b[0m \u001b[38;5;28;01mdef\u001b[39;00m \u001b[38;5;21mdisconnect\u001b[39m(\u001b[38;5;28mself\u001b[39m):\n\u001b[1;32m    420\u001b[0m     \u001b[38;5;28;01mif\u001b[39;00m \u001b[38;5;129;01mnot\u001b[39;00m \u001b[38;5;28mself\u001b[39m\u001b[38;5;241m.\u001b[39mis_connected:\n\u001b[0;32m--> 421\u001b[0m         \u001b[38;5;28;01mraise\u001b[39;00m RobotDeviceNotConnectedError(\n\u001b[1;32m    422\u001b[0m             \u001b[38;5;124mf\u001b[39m\u001b[38;5;124m\"\u001b[39m\u001b[38;5;124mOpenCVCamera(\u001b[39m\u001b[38;5;132;01m{\u001b[39;00m\u001b[38;5;28mself\u001b[39m\u001b[38;5;241m.\u001b[39mcamera_index\u001b[38;5;132;01m}\u001b[39;00m\u001b[38;5;124m) is not connected. Try running `camera.connect()` first.\u001b[39m\u001b[38;5;124m\"\u001b[39m\n\u001b[1;32m    423\u001b[0m         )\n\u001b[1;32m    425\u001b[0m     \u001b[38;5;28;01mif\u001b[39;00m \u001b[38;5;28mself\u001b[39m\u001b[38;5;241m.\u001b[39mthread \u001b[38;5;129;01mis\u001b[39;00m \u001b[38;5;129;01mnot\u001b[39;00m \u001b[38;5;28;01mNone\u001b[39;00m:\n\u001b[1;32m    426\u001b[0m         \u001b[38;5;28mself\u001b[39m\u001b[38;5;241m.\u001b[39mstop_event\u001b[38;5;241m.\u001b[39mset()\n",
      "\u001b[0;31mRobotDeviceNotConnectedError\u001b[0m: OpenCVCamera(4) is not connected. Try running `camera.connect()` first."
     ]
    }
   ],
   "source": [
    "# MAKE SURE TO RUN THIS BEFORE TRYING TO ASSIGN IN CONFIG\n",
    "camera.disconnect()"
   ]
  },
  {
   "cell_type": "code",
   "execution_count": 16,
   "metadata": {},
   "outputs": [
    {
     "name": "stdout",
     "output_type": "stream",
     "text": [
      "Connecting main follower arm.\n",
      "Connecting main leader arm.\n",
      "Activating torque on main follower arm.\n"
     ]
    }
   ],
   "source": [
    "robot_config = KochRobotConfig(\n",
    "    leader_arms={\"main\": leader_config},\n",
    "    follower_arms={\"main\": follower_config},\n",
    "    calibration_dir=\".cache/calibration/koch\",\n",
    "    cameras={\n",
    "        # \"laptop\": OpenCVCameraConfig(0, fps=30, width=640, height=480),\n",
    "        \"phone\": OpenCVCameraConfig(4, fps=30, width=640, height=480),\n",
    "    },\n",
    ")\n",
    "robot = ManipulatorRobot(robot_config)\n",
    "robot.connect()"
   ]
  },
  {
   "cell_type": "code",
   "execution_count": 17,
   "metadata": {},
   "outputs": [
    {
     "name": "stdout",
     "output_type": "stream",
     "text": [
      "torch.Size([480, 640, 3])\n",
      "0\n",
      "255\n"
     ]
    }
   ],
   "source": [
    "observation, action = robot.teleop_step(record_data=True)\n",
    "# print(observation[\"observation.images.laptop\"].shape)\n",
    "print(observation[\"observation.images.phone\"].shape)\n",
    "print(observation[\"observation.images.phone\"].min().item())\n",
    "print(observation[\"observation.images.phone\"].max().item())\n"
   ]
  },
  {
   "cell_type": "code",
   "execution_count": 19,
   "metadata": {},
   "outputs": [],
   "source": [
    "robot.disconnect()"
   ]
  },
  {
   "cell_type": "markdown",
   "metadata": {},
   "source": [
    "record data and visualize it"
   ]
  },
  {
   "cell_type": "code",
   "execution_count": 21,
   "metadata": {},
   "outputs": [
    {
     "name": "stdout",
     "output_type": "stream",
     "text": [
      "Connecting main follower arm.\n",
      "Connecting main leader arm.\n",
      "Activating torque on main follower arm.\n"
     ]
    }
   ],
   "source": [
    "robot.connect()"
   ]
  },
  {
   "cell_type": "code",
   "execution_count": 22,
   "metadata": {},
   "outputs": [
    {
     "name": "stdout",
     "output_type": "stream",
     "text": [
      "Error reading in thread: Can't capture color image from camera 4.\n",
      "Error reading in thread: Can't capture color image from camera 4.\n",
      "Error reading in thread: Can't capture color image from camera 4.\n",
      "Error reading in thread: Can't capture color image from camera 4.\n",
      "Error reading in thread: Can't capture color image from camera 4.\n",
      "Error reading in thread: Can't capture color image from camera 4.\n",
      "Error reading in thread: Can't capture color image from camera 4.\n",
      "Error reading in thread: Can't capture color image from camera 4.\n",
      "Error reading in thread: Can't capture color image from camera 4.\n",
      "Error reading in thread: Can't capture color image from camera 4.\n",
      "Error reading in thread: Can't capture color image from camera 4.\n",
      "Error reading in thread: Can't capture color image from camera 4.\n",
      "Error reading in thread: Can't capture color image from camera 4.\n",
      "Error reading in thread: Can't capture color image from camera 4.\n",
      "Error reading in thread: Can't capture color image from camera 4.\n",
      "Error reading in thread: Can't capture color image from camera 4.\n",
      "Error reading in thread: Can't capture color image from camera 4.\n",
      "Error reading in thread: Can't capture color image from camera 4.\n",
      "Error reading in thread: Can't capture color image from camera 4.\n",
      "Error reading in thread: Can't capture color image from camera 4.\n",
      "Error reading in thread: Can't capture color image from camera 4.\n",
      "Error reading in thread: Can't capture color image from camera 4.\n",
      "Error reading in thread: Can't capture color image from camera 4.\n",
      "Error reading in thread: Can't capture color image from camera 4.\n",
      "Error reading in thread: Can't capture color image from camera 4.\n",
      "Error reading in thread: Can't capture color image from camera 4.\n",
      "Error reading in thread: Can't capture color image from camera 4.\n",
      "Error reading in thread: Can't capture color image from camera 4.\n",
      "Error reading in thread: Can't capture color image from camera 4.\n",
      "Error reading in thread: Can't capture color image from camera 4.\n",
      "Error reading in thread: Can't capture color image from camera 4.\n",
      "Error reading in thread: Can't capture color image from camera 4.\n",
      "Error reading in thread: Can't capture color image from camera 4.\n",
      "Error reading in thread: Can't capture color image from camera 4.\n",
      "Error reading in thread: Can't capture color image from camera 4.\n",
      "Error reading in thread: Can't capture color image from camera 4.\n",
      "Error reading in thread: Can't capture color image from camera 4.\n",
      "Error reading in thread: Can't capture color image from camera 4.\n",
      "Error reading in thread: Can't capture color image from camera 4.\n",
      "Error reading in thread: Can't capture color image from camera 4.\n",
      "Error reading in thread: Can't capture color image from camera 4.\n",
      "Error reading in thread: Can't capture color image from camera 4.\n",
      "Error reading in thread: Can't capture color image from camera 4.\n",
      "Error reading in thread: Can't capture color image from camera 4.\n",
      "Error reading in thread: Can't capture color image from camera 4.\n",
      "Error reading in thread: Can't capture color image from camera 4.\n",
      "Error reading in thread: Can't capture color image from camera 4.\n",
      "Error reading in thread: Can't capture color image from camera 4.\n",
      "Error reading in thread: Can't capture color image from camera 4.\n",
      "Error reading in thread: Can't capture color image from camera 4.\n",
      "Error reading in thread: Can't capture color image from camera 4.\n",
      "Error reading in thread: Can't capture color image from camera 4.\n",
      "Error reading in thread: Can't capture color image from camera 4.\n",
      "Error reading in thread: Can't capture color image from camera 4.\n",
      "Error reading in thread: Can't capture color image from camera 4.\n",
      "Error reading in thread: Can't capture color image from camera 4.\n",
      "Error reading in thread: Can't capture color image from camera 4.\n",
      "Error reading in thread: Can't capture color image from camera 4.\n",
      "Error reading in thread: Can't capture color image from camera 4.\n",
      "Error reading in thread: Can't capture color image from camera 4.\n",
      "Error reading in thread: Can't capture color image from camera 4.\n",
      "Error reading in thread: Can't capture color image from camera 4.\n",
      "Error reading in thread: Can't capture color image from camera 4.\n",
      "Error reading in thread: Can't capture color image from camera 4.\n",
      "Error reading in thread: Can't capture color image from camera 4.\n",
      "Error reading in thread: Can't capture color image from camera 4.\n",
      "Error reading in thread: Can't capture color image from camera 4.\n",
      "Error reading in thread: Can't capture color image from camera 4.\n",
      "Error reading in thread: Can't capture color image from camera 4.\n",
      "Error reading in thread: Can't capture color image from camera 4.\n",
      "Error reading in thread: Can't capture color image from camera 4.\n",
      "Error reading in thread: Can't capture color image from camera 4.\n",
      "Error reading in thread: Can't capture color image from camera 4.\n",
      "Error reading in thread: Can't capture color image from camera 4.\n",
      "Error reading in thread: Can't capture color image from camera 4.\n",
      "Error reading in thread: Can't capture color image from camera 4.\n",
      "Error reading in thread: Can't capture color image from camera 4.\n",
      "Error reading in thread: Can't capture color image from camera 4.\n"
     ]
    }
   ],
   "source": [
    "import time\n",
    "from lerobot.scripts.control_robot import busy_wait\n",
    "\n",
    "record_time_s = 30\n",
    "fps = 60\n",
    "\n",
    "states = []\n",
    "actions = []\n",
    "for _ in range(record_time_s * fps):\n",
    "    start_time = time.perf_counter()\n",
    "    observation, action = robot.teleop_step(record_data=True)\n",
    "\n",
    "    states.append(observation[\"observation.state\"])\n",
    "    actions.append(action[\"action\"])\n",
    "\n",
    "    dt_s = time.perf_counter() - start_time\n",
    "    busy_wait(1 / fps - dt_s)\n",
    "\n",
    "# Note that observation and action are available in RAM, but\n",
    "# you could potentially store them on disk with pickle/hdf5 or\n",
    "# our optimized format `LeRobotDataset`. More on this next."
   ]
  },
  {
   "cell_type": "code",
   "execution_count": null,
   "metadata": {},
   "outputs": [],
   "source": []
  }
 ],
 "metadata": {
  "kernelspec": {
   "display_name": "lerobot",
   "language": "python",
   "name": "python3"
  },
  "language_info": {
   "codemirror_mode": {
    "name": "ipython",
    "version": 3
   },
   "file_extension": ".py",
   "mimetype": "text/x-python",
   "name": "python",
   "nbconvert_exporter": "python",
   "pygments_lexer": "ipython3",
   "version": "3.11.9"
  }
 },
 "nbformat": 4,
 "nbformat_minor": 2
}
